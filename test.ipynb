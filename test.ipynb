{
 "cells": [
  {
   "cell_type": "code",
   "execution_count": 4,
   "metadata": {},
   "outputs": [
    {
     "ename": "KeyError",
     "evalue": "'data'",
     "output_type": "error",
     "traceback": [
      "\u001b[1;31m---------------------------------------------------------------------------\u001b[0m",
      "\u001b[1;31mKeyError\u001b[0m                                  Traceback (most recent call last)",
      "Input \u001b[1;32mIn [4]\u001b[0m, in \u001b[0;36m<cell line: 35>\u001b[1;34m()\u001b[0m\n\u001b[0;32m     32\u001b[0m         tweet_list\u001b[38;5;241m.\u001b[39mappend(refined_tweet)\n\u001b[0;32m     33\u001b[0m     \u001b[38;5;28;01mreturn\u001b[39;00m tweet_list\n\u001b[1;32m---> 35\u001b[0m df \u001b[38;5;241m=\u001b[39m \u001b[43mget_twitter_data\u001b[49m\u001b[43m(\u001b[49m\u001b[43m)\u001b[49m\n\u001b[0;32m     36\u001b[0m df\n",
      "Input \u001b[1;32mIn [4]\u001b[0m, in \u001b[0;36mget_twitter_data\u001b[1;34m()\u001b[0m\n\u001b[0;32m     14\u001b[0m response \u001b[38;5;241m=\u001b[39m requests\u001b[38;5;241m.\u001b[39mget(url\u001b[38;5;241m=\u001b[39murl, headers\u001b[38;5;241m=\u001b[39m{\u001b[38;5;124m\"\u001b[39m\u001b[38;5;124mAuthorization\u001b[39m\u001b[38;5;124m\"\u001b[39m: \u001b[38;5;124mf\u001b[39m\u001b[38;5;124m\"\u001b[39m\u001b[38;5;124mBearer \u001b[39m\u001b[38;5;132;01m{\u001b[39;00mTWITTER_BEARER_TOKEN\u001b[38;5;132;01m}\u001b[39;00m\u001b[38;5;124m\"\u001b[39m})\n\u001b[0;32m     15\u001b[0m response \u001b[38;5;241m=\u001b[39m json\u001b[38;5;241m.\u001b[39mloads(response\u001b[38;5;241m.\u001b[39mcontent)\n\u001b[1;32m---> 17\u001b[0m data \u001b[38;5;241m=\u001b[39m \u001b[43mresponse\u001b[49m\u001b[43m[\u001b[49m\u001b[38;5;124;43m\"\u001b[39;49m\u001b[38;5;124;43mdata\u001b[39;49m\u001b[38;5;124;43m\"\u001b[39;49m\u001b[43m]\u001b[49m\n\u001b[0;32m     18\u001b[0m includes \u001b[38;5;241m=\u001b[39m response[\u001b[38;5;124m\"\u001b[39m\u001b[38;5;124mincludes\u001b[39m\u001b[38;5;124m\"\u001b[39m]\n\u001b[0;32m     20\u001b[0m \u001b[38;5;66;03m# Refine tweets data\u001b[39;00m\n",
      "\u001b[1;31mKeyError\u001b[0m: 'data'"
     ]
    }
   ],
   "source": [
    "def get_twitter_data():\n",
    "\n",
    "    import requests\n",
    "    import json\n",
    "    \n",
    "    TWITTER_BEARER_TOKEN = 'AAAAAAAAAAAAAAAAAAAAACD1ygEAAAAABAX7%2FlTqk5Cvc0O988HPhMrrHiA%3Dkc8UwGyWLXk3Q65NrovBTSeVfGrGV03icd5TSewavU0Ufl7ud1'\n",
    "\n",
    "    # Get tweets using Twitter API v2 & Bearer Token\n",
    "    BASE_URL = \"https://api.twitter.com/2/tweets/search/recent\"\n",
    "    USERNAME = \"elonmusk\"\n",
    "    FIELDS = {\"created_at\", \"lang\", \"attachments\", \"public_metrics\", \"text\", \"author_id\"}\n",
    "\n",
    "    url = f\"{BASE_URL}?query=from:{USERNAME}&tweet.fields={','.join(FIELDS)}&expansions=author_id&max_results=50\"\n",
    "    response = requests.get(url=url, headers={\"Authorization\": f\"Bearer {TWITTER_BEARER_TOKEN}\"})\n",
    "    response = json.loads(response.content)\n",
    "\n",
    "    data = response[\"data\"]\n",
    "    includes = response[\"includes\"]\n",
    "\n",
    "    # Refine tweets data\n",
    "    tweet_list = []\n",
    "    for tweet in data:\n",
    "        refined_tweet = {\n",
    "            \"tweet_id\": tweet[\"id\"],\n",
    "            \"username\": includes[\"users\"][0][\"username\"],  # Get username from the included data\n",
    "            \"user_id\": tweet[\"author_id\"],\n",
    "            \"text\": tweet[\"text\"],\n",
    "            \"like_count\": tweet[\"public_metrics\"][\"like_count\"],\n",
    "            \"retweet_count\": tweet[\"public_metrics\"][\"retweet_count\"],\n",
    "            \"created_at\": tweet[\"created_at\"],\n",
    "        }\n",
    "        tweet_list.append(refined_tweet)\n",
    "    return tweet_list\n",
    "\n",
    "df = get_twitter_data()\n",
    "df"
   ]
  },
  {
   "cell_type": "code",
   "execution_count": 6,
   "metadata": {},
   "outputs": [
    {
     "data": {
      "text/plain": [
       "{'title': 'Too Many Requests',\n",
       " 'detail': 'Too Many Requests',\n",
       " 'type': 'about:blank',\n",
       " 'status': 429}"
      ]
     },
     "execution_count": 6,
     "metadata": {},
     "output_type": "execute_result"
    }
   ],
   "source": [
    "import requests\n",
    "import json\n",
    "    \n",
    "TWITTER_BEARER_TOKEN = 'AAAAAAAAAAAAAAAAAAAAACD1ygEAAAAABAX7%2FlTqk5Cvc0O988HPhMrrHiA%3Dkc8UwGyWLXk3Q65NrovBTSeVfGrGV03icd5TSewavU0Ufl7ud1'\n",
    "BASE_URL = \"https://api.twitter.com/2/tweets/search/recent\"\n",
    "USERNAME = \"elonmusk\"\n",
    "FIELDS = {\"created_at\", \"lang\", \"attachments\", \"public_metrics\", \"text\", \"author_id\"}\n",
    "\n",
    "url = f\"{BASE_URL}?query=from:{USERNAME}&tweet.fields={','.join(FIELDS)}&expansions=author_id&max_results=10\"\n",
    "response = requests.get(url=url, headers={\"Authorization\": f\"Bearer {TWITTER_BEARER_TOKEN}\"})\n",
    "response = json.loads(response.content)  \n",
    "response                    "
   ]
  }
 ],
 "metadata": {
  "kernelspec": {
   "display_name": "Python 3",
   "language": "python",
   "name": "python3"
  },
  "language_info": {
   "codemirror_mode": {
    "name": "ipython",
    "version": 3
   },
   "file_extension": ".py",
   "mimetype": "text/x-python",
   "name": "python",
   "nbconvert_exporter": "python",
   "pygments_lexer": "ipython3",
   "version": "3.9.1"
  }
 },
 "nbformat": 4,
 "nbformat_minor": 2
}
